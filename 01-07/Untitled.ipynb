{
 "cells": [
  {
   "cell_type": "code",
   "execution_count": 1,
   "id": "fc7356b3-f456-4f2f-9cc1-025447d3daa3",
   "metadata": {},
   "outputs": [
    {
     "name": "stdout",
     "output_type": "stream",
     "text": [
      "Maximum second number: 8\n"
     ]
    }
   ],
   "source": [
    "def max_second_number(numbers):\n",
    "    # Find the maximum number in the list\n",
    "    max_number = max(numbers)\n",
    "    \n",
    "    # Remove the maximum number from the list\n",
    "    numbers.remove(max_number)\n",
    "    \n",
    "    # Find the maximum in the modified list\n",
    "    max_second = max(numbers)\n",
    "    \n",
    "    return max_second\n",
    "\n",
    "# Example usage:\n",
    "numbers = [5, 2, 8, 3, 10, 7]\n",
    "result = max_second_number(numbers)\n",
    "print(\"Maximum second number:\", result)\n"
   ]
  },
  {
   "cell_type": "code",
   "execution_count": null,
   "id": "ad5634ef-e1cd-47d4-b4e2-48a750747b44",
   "metadata": {},
   "outputs": [],
   "source": []
  }
 ],
 "metadata": {
  "kernelspec": {
   "display_name": "Python 3 (ipykernel)",
   "language": "python",
   "name": "python3"
  },
  "language_info": {
   "codemirror_mode": {
    "name": "ipython",
    "version": 3
   },
   "file_extension": ".py",
   "mimetype": "text/x-python",
   "name": "python",
   "nbconvert_exporter": "python",
   "pygments_lexer": "ipython3",
   "version": "3.12.2"
  }
 },
 "nbformat": 4,
 "nbformat_minor": 5
}
