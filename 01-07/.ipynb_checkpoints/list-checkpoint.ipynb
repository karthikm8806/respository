{
 "cells": [
  {
   "cell_type": "code",
   "execution_count": 1,
   "id": "4add344f-b623-49db-8c96-fdb82b5824a7",
   "metadata": {},
   "outputs": [
    {
     "name": "stdin",
     "output_type": "stream",
     "text": [
      "Enter the size of the list: 5\n",
      "Enter a element: 10\n",
      "Enter a element: 20\n",
      "Enter a element: 30\n",
      "Enter a element: 40\n",
      "Enter a element: 50\n"
     ]
    },
    {
     "name": "stdout",
     "output_type": "stream",
     "text": [
      "[10, 20, 30, 40, 50]\n"
     ]
    }
   ],
   "source": [
    "# Wap to create a list of size n and add any random integer's in a list\n",
    "n = int(input(\"Enter the size of the list:\"))\n",
    "l = []\n",
    "for i in range(n):\n",
    "    data = int(input(\"Enter a element:\"))\n",
    "    l.append(data)\n",
    "print(l)"
   ]
  },
  {
   "cell_type": "code",
   "execution_count": 4,
   "id": "69b901ff-d793-4a48-84c1-064637a95bc7",
   "metadata": {},
   "outputs": [
    {
     "name": "stdout",
     "output_type": "stream",
     "text": [
      "12\n",
      "56\n",
      "92\n"
     ]
    }
   ],
   "source": [
    "#  wap to print only those element which are even in nature\n",
    "lis = [12, 23, 45, 56, 92]\n",
    "for i in range(0, len(lis)):\n",
    "    dat = lis[i]\n",
    "    if(dat % 2 == 0):\n",
    "        print(dat)"
   ]
  },
  {
   "cell_type": "code",
   "execution_count": 6,
   "id": "1aca23db-30f2-4786-81a5-9a234fde9814",
   "metadata": {},
   "outputs": [
    {
     "name": "stdout",
     "output_type": "stream",
     "text": [
      "267\n",
      "33.375\n"
     ]
    }
   ],
   "source": [
    "# wap to find average of all the numbers present in the list\n",
    "li = [10, 30, 8, 6, 60, 90, 18, 45]\n",
    "sum = 0\n",
    "for i in range(0, len(li)):\n",
    "    dat = li[i]\n",
    "    sum = dat + sum\n",
    "# print(sum)\n",
    "avg = sum / len(li)\n",
    "print(avg)"
   ]
  },
  {
   "cell_type": "code",
   "execution_count": 16,
   "id": "39decd6b-67e8-4736-b5c1-9bd818387002",
   "metadata": {},
   "outputs": [
    {
     "name": "stdout",
     "output_type": "stream",
     "text": [
      "144\n"
     ]
    }
   ],
   "source": [
    "# wap to find maximum element from the list\n",
    "list = [-15, -25, -1, -36, 144, -56]\n",
    "max = list[0]\n",
    "for i in range(0, len(list)):\n",
    "    da = list[i]\n",
    "    if(da > max):\n",
    "        max = da\n",
    "print(max)"
   ]
  },
  {
   "cell_type": "code",
   "execution_count": null,
   "id": "746b1b41-2f83-46dc-b7c1-5131f575e1d6",
   "metadata": {},
   "outputs": [],
   "source": []
  }
 ],
 "metadata": {
  "kernelspec": {
   "display_name": "Python 3 (ipykernel)",
   "language": "python",
   "name": "python3"
  },
  "language_info": {
   "codemirror_mode": {
    "name": "ipython",
    "version": 3
   },
   "file_extension": ".py",
   "mimetype": "text/x-python",
   "name": "python",
   "nbconvert_exporter": "python",
   "pygments_lexer": "ipython3",
   "version": "3.12.2"
  }
 },
 "nbformat": 4,
 "nbformat_minor": 5
}
