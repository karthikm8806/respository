{
 "cells": [
  {
   "cell_type": "code",
   "execution_count": 1,
   "id": "9b413c93-f133-4126-be58-4d0f08141c48",
   "metadata": {},
   "outputs": [
    {
     "name": "stdout",
     "output_type": "stream",
     "text": [
      "Plane is taking off\n",
      "Plane is flying\n",
      "Plane is landing\n",
      "Plane is carrying goods\n",
      "Plane is taking off\n",
      "Plane is flying\n",
      "Plane is landing\n",
      "Plane is carrying passengers\n",
      "Plane is taking off\n",
      "Plane is flying\n",
      "Plane is landing\n",
      "Plane is carrying weapons\n"
     ]
    }
   ],
   "source": [
    "class Cargoplane:\n",
    "    def Takeoff(self):\n",
    "        print(\"Plane is taking off\")\n",
    "    def Fly(self):\n",
    "        print(\"Plane is flying\")\n",
    "    def Land(self):\n",
    "        print(\"Plane is landing\")\n",
    "    def Carry(self):\n",
    "        print(\"Plane is carrying goods\")\n",
    "class Passengerplane:\n",
    "    def Takeoff(self):\n",
    "        print(\"Plane is taking off\")\n",
    "    def Fly(self):\n",
    "        print(\"Plane is flying\")\n",
    "    def Land(self):\n",
    "        print(\"Plane is landing\")\n",
    "    def Carry(self):\n",
    "        print(\"Plane is carrying passengers\")\n",
    "class Fighterplane:\n",
    "    def Takeoff(self):\n",
    "        print(\"Plane is taking off\")\n",
    "    def Fly(self):\n",
    "        print(\"Plane is flying\")\n",
    "    def Land(self):\n",
    "        print(\"Plane is landing\")\n",
    "    def Carry(self):\n",
    "        print(\"Plane is carrying weapons\")\n",
    "c = Cargoplane()\n",
    "p = Passengerplane()\n",
    "f = Fighterplane()\n",
    "c.Takeoff()\n",
    "c.Fly()\n",
    "c.Land()\n",
    "c.Carry()\n",
    "p.Takeoff()\n",
    "p.Fly()\n",
    "p.Land()\n",
    "p.Carry()\n",
    "f.Takeoff()\n",
    "f.Fly()\n",
    "f.Land()\n",
    "f.Carry()"
   ]
  },
  {
   "cell_type": "code",
   "execution_count": null,
   "id": "66a26be7-3ef5-4e87-94d5-4ca4d431183e",
   "metadata": {},
   "outputs": [],
   "source": []
  }
 ],
 "metadata": {
  "kernelspec": {
   "display_name": "Python 3 (ipykernel)",
   "language": "python",
   "name": "python3"
  },
  "language_info": {
   "codemirror_mode": {
    "name": "ipython",
    "version": 3
   },
   "file_extension": ".py",
   "mimetype": "text/x-python",
   "name": "python",
   "nbconvert_exporter": "python",
   "pygments_lexer": "ipython3",
   "version": "3.12.2"
  }
 },
 "nbformat": 4,
 "nbformat_minor": 5
}
