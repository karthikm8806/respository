{
 "cells": [
  {
   "cell_type": "code",
   "execution_count": 2,
   "id": "de3407d4-9432-4204-b99a-14627f1afa13",
   "metadata": {},
   "outputs": [
    {
     "name": "stdout",
     "output_type": "stream",
     "text": [
      "Plane is taking off\n",
      "Plane is flying\n",
      "Plane is landing\n",
      "plane carry goods\n",
      "Plane is taking off\n",
      "Plane is flying\n",
      "Plane is landing\n",
      "plane carry passengers\n",
      "Plane is taking off\n",
      "Plane is flying\n",
      "Plane is landing\n",
      "plane carry weapons\n"
     ]
    }
   ],
   "source": [
    "class Plane:\n",
    "    def Takeoff(self):\n",
    "        print(\"Plane is taking off\")\n",
    "    def Fly(self):\n",
    "        print(\"Plane is flying\")\n",
    "    def Land(self):\n",
    "        print(\"Plane is landing\")\n",
    "class Cargo(Plane):\n",
    "    def carryc(self):\n",
    "        print(\"plane carry goods\")\n",
    "class Passenger(Plane):\n",
    "    def carryp(self):\n",
    "        print(\"plane carry passengers\")\n",
    "class Fighter(Plane):\n",
    "    def carryw(self):\n",
    "        print(\"plane carry weapons\")\n",
    "c = Cargo()\n",
    "p = Passenger()\n",
    "f = Fighter()\n",
    "c.Takeoff()\n",
    "c.Fly()\n",
    "c.Land()\n",
    "c.carryc()\n",
    "\n",
    "p.Takeoff()\n",
    "p.Fly()\n",
    "p.Land()\n",
    "p.carryp()\n",
    "\n",
    "f.Takeoff()\n",
    "f.Fly()\n",
    "f.Land()\n",
    "f.carryw()"
   ]
  },
  {
   "cell_type": "code",
   "execution_count": null,
   "id": "2ca8288d-0c2d-4f3c-9f1b-8ef33a5e4fc2",
   "metadata": {},
   "outputs": [],
   "source": []
  }
 ],
 "metadata": {
  "kernelspec": {
   "display_name": "Python 3 (ipykernel)",
   "language": "python",
   "name": "python3"
  },
  "language_info": {
   "codemirror_mode": {
    "name": "ipython",
    "version": 3
   },
   "file_extension": ".py",
   "mimetype": "text/x-python",
   "name": "python",
   "nbconvert_exporter": "python",
   "pygments_lexer": "ipython3",
   "version": "3.12.2"
  }
 },
 "nbformat": 4,
 "nbformat_minor": 5
}
