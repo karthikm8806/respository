{
 "cells": [
  {
   "cell_type": "code",
   "execution_count": 2,
   "id": "c6793c50-1904-4ed8-a625-e3eac8eaa4e8",
   "metadata": {},
   "outputs": [
    {
     "name": "stdout",
     "output_type": "stream",
     "text": [
      "30\n",
      "20\n",
      "10\n"
     ]
    }
   ],
   "source": [
    "# object in derived class\n",
    "class A:\n",
    "    def __init__(self):\n",
    "        self.a = 10\n",
    "class B(A):\n",
    "    def __init__(self):\n",
    "        A.__init__(self)\n",
    "        self.b = 20\n",
    "class C(B):\n",
    "    def __init__(self):\n",
    "        B.__init__(self)\n",
    "        self.c1 = 30\n",
    "cf = C()\n",
    "print(cf.c1)\n",
    "print(cf.b)\n",
    "print(cf.a)"
   ]
  },
  {
   "cell_type": "code",
   "execution_count": null,
   "id": "8d9f4de3-6352-49b1-a692-42bbd94c90f1",
   "metadata": {},
   "outputs": [],
   "source": []
  }
 ],
 "metadata": {
  "kernelspec": {
   "display_name": "Python 3 (ipykernel)",
   "language": "python",
   "name": "python3"
  },
  "language_info": {
   "codemirror_mode": {
    "name": "ipython",
    "version": 3
   },
   "file_extension": ".py",
   "mimetype": "text/x-python",
   "name": "python",
   "nbconvert_exporter": "python",
   "pygments_lexer": "ipython3",
   "version": "3.12.2"
  }
 },
 "nbformat": 4,
 "nbformat_minor": 5
}
