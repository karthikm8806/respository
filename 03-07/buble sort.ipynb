{
 "cells": [
  {
   "cell_type": "code",
   "execution_count": 2,
   "id": "97e67550-bc22-46b3-8393-2ee3684e37b6",
   "metadata": {},
   "outputs": [
    {
     "name": "stdout",
     "output_type": "stream",
     "text": [
      "[8, 18, 69, 90, 120, 143, 420, 6000]\n"
     ]
    }
   ],
   "source": [
    "# bubble sort\n",
    "list = [8, 143, 420, 6000, 90, 69, 120, 18]\n",
    "for k in range(0, len(list) - 1):\n",
    "    for i in range(0, len(list) - 1):\n",
    "        if(list[i] > list[i + 1]):\n",
    "            list[i], list[i + 1] = list[i + 1], list[i]\n",
    "\n",
    "print(list)"
   ]
  },
  {
   "cell_type": "code",
   "execution_count": 8,
   "id": "46c3bf4f-8472-40b1-9681-35070993f6fc",
   "metadata": {},
   "outputs": [
    {
     "name": "stdout",
     "output_type": "stream",
     "text": [
      "[6106, 420, 143, 120, 90, 69, 18, 8]\n"
     ]
    }
   ],
   "source": [
    "# buble sort in decending order\n",
    "l = [8, 143, 420, 6106,  90, 69, 120, 18]\n",
    "for k in range(0, len(l) - 1):\n",
    "    for i in range(0, len(l) - 1):\n",
    "        if(l[i] < l[i + 1]):\n",
    "            l[i], l[i + 1] = l[i + 1], l[i]\n",
    "\n",
    "print(l)"
   ]
  },
  {
   "cell_type": "code",
   "execution_count": null,
   "id": "a4ae2a8b-2c4b-4790-9bbf-0acd3911ce4d",
   "metadata": {},
   "outputs": [],
   "source": []
  }
 ],
 "metadata": {
  "kernelspec": {
   "display_name": "Python 3 (ipykernel)",
   "language": "python",
   "name": "python3"
  },
  "language_info": {
   "codemirror_mode": {
    "name": "ipython",
    "version": 3
   },
   "file_extension": ".py",
   "mimetype": "text/x-python",
   "name": "python",
   "nbconvert_exporter": "python",
   "pygments_lexer": "ipython3",
   "version": "3.12.2"
  }
 },
 "nbformat": 4,
 "nbformat_minor": 5
}
