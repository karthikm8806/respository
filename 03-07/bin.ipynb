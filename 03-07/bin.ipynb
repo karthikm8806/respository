{
 "cells": [
  {
   "cell_type": "code",
   "execution_count": 3,
   "id": "44fcb0ca-eeaf-49d2-9e56-50bfa21aae21",
   "metadata": {},
   "outputs": [
    {
     "name": "stdout",
     "output_type": "stream",
     "text": [
      "[2, 4, 5, 6, 7, 8, 10, 22, 28]\n"
     ]
    }
   ],
   "source": [
    "l1 = [2, 4, 6, 8, 10, 22, 28]\n",
    "l2 = [5, 7]\n",
    "res = []\n",
    "i = 0\n",
    "j = 0\n",
    "while(j < len(l2) and i < len(l1)):\n",
    "    if(l1[i] < l2[j]):\n",
    "        res.append(l1[i])\n",
    "        i = i + 1\n",
    "    else:\n",
    "        res.append(l2[j])\n",
    "        j = j + 1\n",
    "while(i < len(l1)):\n",
    "    res.append(l1[i])\n",
    "    i = i + 1\n",
    "while(j < len(l2)):\n",
    "    res.append(l2[j])\n",
    "    j = j + 1\n",
    "print(res)"
   ]
  },
  {
   "cell_type": "code",
   "execution_count": null,
   "id": "08577c58-b37e-45ca-985f-6ad7af0a0198",
   "metadata": {},
   "outputs": [],
   "source": []
  }
 ],
 "metadata": {
  "kernelspec": {
   "display_name": "Python 3 (ipykernel)",
   "language": "python",
   "name": "python3"
  },
  "language_info": {
   "codemirror_mode": {
    "name": "ipython",
    "version": 3
   },
   "file_extension": ".py",
   "mimetype": "text/x-python",
   "name": "python",
   "nbconvert_exporter": "python",
   "pygments_lexer": "ipython3",
   "version": "3.12.2"
  }
 },
 "nbformat": 4,
 "nbformat_minor": 5
}
