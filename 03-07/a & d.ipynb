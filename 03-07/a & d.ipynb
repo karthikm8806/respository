{
 "cells": [
  {
   "cell_type": "code",
   "execution_count": 13,
   "id": "a02717fe-3223-4ead-a8f4-7cec96c9a59c",
   "metadata": {},
   "outputs": [
    {
     "name": "stdout",
     "output_type": "stream",
     "text": [
      "[1, 2, 3, 4, 5, 34, 40, 64, 90, 95, 96]\n"
     ]
    }
   ],
   "source": [
    "# to merge two decending sorted arrayin a ascending order\n",
    "l1 = [95, 90, 40, 34 ]\n",
    "l2 = [96, 64, 5, 4, 3, 2, 1]\n",
    "res = []\n",
    "i = len(l1) - 1\n",
    "j = len(l2) - 1\n",
    "\n",
    "while(j >= 0  and i >= 0):\n",
    "    if(l1[i] < l2[j]):  \n",
    "        res.append(l1[i])\n",
    "        i -= 1\n",
    "    else:\n",
    "        res.append(l2[j])\n",
    "        j -= 1\n",
    "\n",
    "\n",
    "while(i >= 0):\n",
    "    res.append(l1[i])\n",
    "    i -= 1\n",
    "\n",
    "while(j >= 0):\n",
    "    res.append(l2[j])\n",
    "    j -= 1\n",
    "\n",
    "\n",
    "print(res)\n"
   ]
  },
  {
   "cell_type": "code",
   "execution_count": null,
   "id": "63dbccad-5163-4cf1-839f-6a1d7e9737db",
   "metadata": {},
   "outputs": [],
   "source": []
  }
 ],
 "metadata": {
  "kernelspec": {
   "display_name": "Python 3 (ipykernel)",
   "language": "python",
   "name": "python3"
  },
  "language_info": {
   "codemirror_mode": {
    "name": "ipython",
    "version": 3
   },
   "file_extension": ".py",
   "mimetype": "text/x-python",
   "name": "python",
   "nbconvert_exporter": "python",
   "pygments_lexer": "ipython3",
   "version": "3.12.2"
  }
 },
 "nbformat": 4,
 "nbformat_minor": 5
}
